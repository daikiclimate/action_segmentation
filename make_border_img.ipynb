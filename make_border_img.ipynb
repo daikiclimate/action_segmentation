{
 "cells": [
  {
   "cell_type": "code",
   "execution_count": 3,
   "metadata": {},
   "outputs": [],
   "source": [
    "import numpy as np\n",
    "from PIL import Image\n",
    "import matplotlib.pyplot as plt\n",
    "%matplotlib inline\n",
    "import pandas as pd\n",
    "\n",
    "palette = [\n",
    "    255, 0, 0,\n",
    "    255, 165, 0,\n",
    "    255, 255, 0,\n",
    "    0, 255, 255,\n",
    "    #0, 0, 255,\n",
    "    200, 128, 128,\n",
    "    0, 255, 0,\n",
    "    128, 0, 255,\n",
    "    128, 128, 128,\n",
    "    128, 128, 0,\n",
    "    0, 128, 255,\n",
    "    0, 0, 128,\n",
    "]\n",
    "#out_path = \"sample.png\"\n",
    "#img1.save(out_path) #保存"
   ]
  },
  {
   "cell_type": "code",
   "execution_count": 6,
   "metadata": {},
   "outputs": [
    {
     "data": {
      "image/png": "[encoded data removed]",
      "text/plain": [
       "<Figure size 720x720 with 1 Axes>"
      ]
     },
     "metadata": {
      "needs_background": "light"
     },
     "output_type": "display_data"
    },
    {
     "data": {
      "image/png": "[encoded data removed]",
      "text/plain": [
       "<Figure size 720x720 with 1 Axes>"
      ]
     },
     "metadata": {
      "needs_background": "light"
     },
     "output_type": "display_data"
    }
   ],
   "source": [
    "#time_range = [500, 3300]\n",
    "x = 1500\n",
    "time_range = [x, x + 2800]\n",
    "\n",
    "video_name = \"r17\"\n",
    "\n",
    "df = pd.read_csv(f\"visualize_output/vgg_tcn/pred_labels_{video_name}.csv\", index_col = 0)\n",
    "def make_labelband(labels, h = 300, palette = None, time_range = [0, 1000]):\n",
    "    labels = np.array(labels).astype(np.uint8)\n",
    "    labels = labels[time_range[0]:time_range[1]]\n",
    "    labels = np.tile(labels, (300, 1))\n",
    "    img = Image.fromarray(labels)\n",
    "    img = img.convert(\"P\")\n",
    "    img.putpalette(palette)\n",
    "    return img\n",
    "pred_img = make_labelband(df.pred.values, palette = palette, time_range=time_range)\n",
    "gt_img = make_labelband(df.labels.values, palette = palette, time_range=time_range)\n",
    "fig = plt.figure(figsize = (10,10))\n",
    "plt.axis(\"off\")\n",
    "plt.imshow(pred_img)\n",
    "#plt.savefig(\"visualize_output/r17_tcn_pred.png\")\n",
    "plt.show()\n",
    "fig = plt.figure(figsize = (10,10))\n",
    "plt.axis(\"off\")\n",
    "plt.imshow(gt_img)\n",
    "#plt.savefig(\"visualize_output/r17_gt.png\")\n",
    "plt.show()"
   ]
  },
  {
   "cell_type": "code",
   "execution_count": 41,
   "metadata": {},
   "outputs": [
    {
     "data": {
      "image/png": "[encoded data removed]",
      "text/plain": [
       "<Figure size 720x720 with 1 Axes>"
      ]
     },
     "metadata": {
      "needs_background": "light"
     },
     "output_type": "display_data"
    }
   ],
   "source": [
    "df = pd.read_csv(f\"visualize_output/vgg_lstm/pred_labels_{video_name}.csv\", index_col = 0)\n",
    "\n",
    "pred_img = make_labelband(df.pred.values, palette = palette, time_range=time_range)\n",
    "fig = plt.figure(figsize = (10,10))\n",
    "\n",
    "plt.axis(\"off\")\n",
    "plt.imshow(pred_img)\n",
    "#plt.savefig(\"visualize_output/r17_lstm_pred.png\")\n",
    "plt.show()"
   ]
  },
  {
   "cell_type": "code",
   "execution_count": 42,
   "metadata": {},
   "outputs": [
    {
     "data": {
      "image/png": "[encoded data removed]",
      "text/plain": [
       "<Figure size 720x720 with 1 Axes>"
      ]
     },
     "metadata": {
      "needs_background": "light"
     },
     "output_type": "display_data"
    }
   ],
   "source": [
    "df = pd.read_csv(f\"visualize_output/vgg_NN/pred_labels_{video_name}.csv\", index_col = 0)\n",
    "\n",
    "pred_img = make_labelband(df.pred.values, palette = palette, time_range=time_range)\n",
    "fig = plt.figure(figsize = (10,10))\n",
    "\n",
    "plt.axis(\"off\")\n",
    "plt.imshow(pred_img)\n",
    "#plt.savefig(\"visualize_output/r17_NN_pred.png\")\n",
    "plt.show()"
   ]
  },
  {
   "cell_type": "code",
   "execution_count": 43,
   "metadata": {},
   "outputs": [
    {
     "data": {
      "image/png": "[encoded data removed]",
      "text/plain": [
       "<Figure size 720x720 with 1 Axes>"
      ]
     },
     "metadata": {
      "needs_background": "light"
     },
     "output_type": "display_data"
    }
   ],
   "source": [
    "df = pd.read_csv(f\"visualize_output/vgg_lstm_time/pred_labels_{video_name}.csv\", index_col = 0)\n",
    "\n",
    "pred_img = make_labelband(df.pred.values, palette = palette, time_range=time_range)\n",
    "fig = plt.figure(figsize = (10,10))\n",
    "\n",
    "plt.axis(\"off\")\n",
    "plt.imshow(pred_img)\n",
    "#plt.savefig(\"visualize_output/r17_lstm__time_pred.png\")\n",
    "plt.show()"
   ]
  },
  {
   "cell_type": "code",
   "execution_count": 33,
   "metadata": {},
   "outputs": [
    {
     "data": {
      "text/plain": [
       "array([5, 5, 5, 5, 5, 5, 5, 5, 5, 5, 5, 5, 5, 5, 5, 5, 5, 5, 5, 5, 5, 5,\n",
       "       5, 5, 5, 5, 5, 5, 5, 5, 5, 5, 5, 5, 5, 5, 5, 5, 5, 5, 5, 5, 5, 5,\n",
       "       5, 1, 1, 1, 1, 1, 1, 1, 1, 1, 1, 1, 1, 1, 1, 1, 1, 1, 1, 1, 1, 1,\n",
       "       1, 1, 1, 1, 1, 1, 1, 1, 1, 1, 1, 9, 9, 9, 9, 9, 9, 9, 9, 9, 9, 1,\n",
       "       9, 1, 1, 1, 1, 1, 1, 1, 1, 1, 1, 1])"
      ]
     },
     "execution_count": 33,
     "metadata": {},
     "output_type": "execute_result"
    }
   ],
   "source": [
    "df.pred.values[2200:2300]"
   ]
  },
  {
   "cell_type": "code",
   "execution_count": 27,
   "metadata": {},
   "outputs": [
    {
     "data": {
      "text/plain": [
       "['opening',\n",
       " 'moving',\n",
       " 'hidden',\n",
       " 'painting',\n",
       " 'battle',\n",
       " 'respawn',\n",
       " 'superjump',\n",
       " 'object',\n",
       " 'special',\n",
       " 'map',\n",
       " 'ending']"
      ]
     },
     "execution_count": 27,
     "metadata": {},
     "output_type": "execute_result"
    }
   ],
   "source": [
    "import utils\n",
    "utils.return_labels()"
   ]
  },
  {
   "cell_type": "code",
   "execution_count": 9,
   "metadata": {},
   "outputs": [],
   "source": [
    "gt = df.labels"
   ]
  },
  {
   "cell_type": "code",
   "execution_count": 14,
   "metadata": {},
   "outputs": [
    {
     "name": "stdout",
     "output_type": "stream",
     "text": [
      "r1 0 (245,) 93 0.49863157\n",
      "r1 1 (423,) 0 0.010412068\n",
      "r1 3 (587,) 6 0.04175613\n",
      "r1 4 (471,) 0 0.0071758255\n",
      "r1 5 (172,) 0 0.07587681\n",
      "r1 6 (94,) 1 0.073777795\n",
      "r1 7 (122,) 0 0.0065455833\n",
      "r1 10 (664,) 105 0.28014472\n",
      "r2 0 (246,) 144 0.51995116\n",
      "r2 1 (1520,) 1 0.030746646\n",
      "r2 2 (94,) 0 0.011253599\n",
      "r2 3 (1142,) 0 0.019264663\n",
      "r2 4 (1195,) 0 0.013909703\n",
      "r2 5 (651,) 10 0.11756306\n",
      "r2 7 (354,) 2 0.026312202\n",
      "r2 8 (89,) 0 0.06669251\n",
      "r2 9 (50,) 0 0.13114157\n",
      "r2 10 (666,) 142 0.31938097\n",
      "r17 0 (201,) 40 0.2960696\n",
      "r17 1 (685,) 7 0.044192404\n",
      "r17 2 (154,) 0 0.06495031\n",
      "r17 3 (1416,) 13 0.03905473\n",
      "r17 4 (552,) 3 0.059948087\n",
      "r17 5 (500,) 30 0.16984491\n",
      "r17 8 (179,) 9 0.15316935\n",
      "r17 9 (121,) 5 0.23656234\n",
      "r17 10 (502,) 126 0.35178864\n",
      "r10 0 (247,) 112 0.49030122\n",
      "r10 1 (1686,) 2 0.026316687\n",
      "r10 2 (378,) 0 0.023579095\n",
      "r10 3 (432,) 0 0.021426829\n",
      "r10 4 (1353,) 0 0.010913473\n",
      "r10 5 (1193,) 16 0.13404576\n",
      "r10 7 (857,) 0 0.024762163\n",
      "r10 8 (96,) 0 0.072102524\n",
      "r10 9 (8,) 0 0.24469396\n",
      "r10 10 (482,) 142 0.24587859\n",
      "r21 0 (170,) 109 0.55307466\n",
      "r21 1 (776,) 0 0.028155511\n",
      "r21 2 (266,) 0 0.026398366\n",
      "r21 3 (981,) 5 0.03546032\n",
      "r21 4 (521,) 1 0.020936977\n",
      "r21 5 (690,) 0 0.08072917\n",
      "r21 7 (810,) 2 0.026446443\n",
      "r21 9 (155,) 48 0.32515156\n",
      "r21 10 (347,) 57 0.29198858\n"
     ]
    }
   ],
   "source": [
    "output = {}\n",
    "for i in range(11):\n",
    "    output[i] = []\n",
    "\n",
    "for v in [\"r1\", \"r2\", \"r17\", \"r10\", \"r21\"]:\n",
    "    attention = np.load(f\"visualize_output/{v}_attention.npy\")\n",
    "    df = pd.read_csv(f\"visualize_output/vgg_lstm_time/pred_labels_{v}.csv\", index_col = 0)\n",
    "    gt = df.labels\n",
    "    for i in np.unique(gt):\n",
    "        index = gt == i\n",
    "        _gt = gt[index]\n",
    "        _att = attention[0, index, i]\n",
    "        print(v, i, _gt.shape, _att[_att > 0.5].shape[0], np.mean(_att))\n",
    "        output[i].append(np.mean(_att))"
   ]
  },
  {
   "cell_type": "code",
   "execution_count": 18,
   "metadata": {},
   "outputs": [
    {
     "name": "stdout",
     "output_type": "stream",
     "text": [
      "0 0.5283943712711334\n",
      "1 0.9720353372395039\n",
      "2 0.9684546589851379\n",
      "3 0.9686074666678905\n",
      "4 0.9774231854826212\n",
      "5 0.8843880519270897\n",
      "6 0.9262222051620483\n",
      "7 0.9789834022521973\n",
      "8 0.9026785418391228\n",
      "9 0.7656126320362091\n",
      "10 0.7021636962890625\n"
     ]
    }
   ],
   "source": [
    "for i in range(11):\n",
    "    print(i, 1 - np.mean(output[i]))"
   ]
  },
  {
   "cell_type": "code",
   "execution_count": 9,
   "metadata": {},
   "outputs": [
    {
     "name": "stdout",
     "output_type": "stream",
     "text": [
      "(4310,)\n"
     ]
    }
   ],
   "source": [
    "r17 1 (685,) 7 0.044192404\n",
    "r17 2 (154,) 0 0.06495031\n",
    "r17 3 (1416,) 13 0.03905473\n",
    "r17 4 (552,) 3 0.059948087\n",
    "r17 5 (500,) 30 0.16984491\n",
    "r17 8 (179,) 9 0.15316935\n",
    "r17 9 (121,) 5 0.23656234"
   ]
  },
  {
   "cell_type": "code",
   "execution_count": 10,
   "metadata": {},
   "outputs": [
    {
     "name": "stdout",
     "output_type": "stream",
     "text": [
      "(1, 4310, 11)\n"
     ]
    }
   ],
   "source": []
  },
  {
   "cell_type": "code",
   "execution_count": 11,
   "metadata": {},
   "outputs": [
    {
     "data": {
      "text/plain": [
       "array([ 0,  0,  0, ..., 10, 10, 10])"
      ]
     },
     "execution_count": 11,
     "metadata": {},
     "output_type": "execute_result"
    }
   ],
   "source": []
  },
  {
   "cell_type": "code",
   "execution_count": 14,
   "metadata": {},
   "outputs": [
    {
     "data": {
      "text/plain": [
       "(1, 4310, 4310)"
      ]
     },
     "execution_count": 14,
     "metadata": {},
     "output_type": "execute_result"
    }
   ],
   "source": []
  },
  {
   "cell_type": "code",
   "execution_count": 27,
   "metadata": {},
   "outputs": [
    {
     "name": "stdout",
     "output_type": "stream",
     "text": [
      "0 (201,) 40 0.2960696\n",
      "1 (685,) 7 0.044192404\n",
      "2 (154,) 0 0.06495031\n",
      "3 (1416,) 13 0.03905473\n",
      "4 (552,) 3 0.059948087\n",
      "5 (500,) 30 0.16984491\n",
      "8 (179,) 9 0.15316935\n",
      "9 (121,) 5 0.23656234\n",
      "10 (502,) 126 0.35178864\n"
     ]
    }
   ],
   "source": [
    "for i in np.unique(gt):\n",
    "    index = gt == i\n",
    "    _gt = gt[index]\n",
    "    _att = attention[0, index, i]\n",
    "    print(i, _gt.shape, _att[_att > 0.5].shape[0], np.mean(_att))"
   ]
  },
  {
   "cell_type": "code",
   "execution_count": null,
   "metadata": {},
   "outputs": [],
   "source": []
  }
 ],
 "metadata": {
  "kernelspec": {
   "display_name": "Python 3",
   "language": "python",
   "name": "python3"
  },
  "language_info": {
   "codemirror_mode": {
    "name": "ipython",
    "version": 3
   },
   "file_extension": ".py",
   "mimetype": "text/x-python",
   "name": "python",
   "nbconvert_exporter": "python",
   "pygments_lexer": "ipython3",
   "version": "3.6.7"
  }
 },
 "nbformat": 4,
 "nbformat_minor": 2
}
